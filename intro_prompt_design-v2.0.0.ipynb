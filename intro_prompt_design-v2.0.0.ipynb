{
 "cells": [
  {
   "cell_type": "code",
   "execution_count": 1,
   "metadata": {
    "id": "ur8xi4C7S06n",
    "tags": []
   },
   "outputs": [],
   "source": [
    "# Copyright 2024 Google LLC\n",
    "#\n",
    "# Licensed under the Apache License, Version 2.0 (the \"License\");\n",
    "# you may not use this file except in compliance with the License.\n",
    "# You may obtain a copy of the License at\n",
    "#\n",
    "#     https://www.apache.org/licenses/LICENSE-2.0\n",
    "#\n",
    "# Unless required by applicable law or agreed to in writing, software\n",
    "# distributed under the License is distributed on an \"AS IS\" BASIS,\n",
    "# WITHOUT WARRANTIES OR CONDITIONS OF ANY KIND, either express or implied.\n",
    "# See the License for the specific language governing permissions and\n",
    "# limitations under the License."
   ]
  },
  {
   "cell_type": "markdown",
   "metadata": {
    "id": "JAPoU8Sm5E6e"
   },
   "source": [
    "# Prompt Design - Best Practices\n",
    "\n",
    "<table align=\"left\">\n",
    "  <td style=\"text-align: center\">\n",
    "    <a href=\"https://colab.research.google.com/github/GoogleCloudPlatform/generative-ai/blob/main/gemini/prompts/intro_prompt_design.ipynb\">\n",
    "      <img src=\"https://cloud.google.com/ml-engine/images/colab-logo-32px.png\" alt=\"Google Colaboratory logo\"><br> Open in Colab\n",
    "    </a>\n",
    "  </td>\n",
    "  <td style=\"text-align: center\">\n",
    "    <a href=\"https://console.cloud.google.com/vertex-ai/colab/import/https:%2F%2Fraw.githubusercontent.com%2FGoogleCloudPlatform%2Fgenerative-ai%2Fmain%2Fgemini%2Fprompts%2Fintro_prompt_design.ipynb\">\n",
    "      <img width=\"32px\" src=\"https://lh3.googleusercontent.com/JmcxdQi-qOpctIvWKgPtrzZdJJK-J3sWE1RsfjZNwshCFgE_9fULcNpuXYTilIR2hjwN\" alt=\"Google Cloud Colab Enterprise logo\"><br> Open in Colab Enterprise\n",
    "    </a>\n",
    "  </td>    \n",
    "  <td style=\"text-align: center\">\n",
    "    <a href=\"https://console.cloud.google.com/vertex-ai/workbench/deploy-notebook?download_url=https://raw.githubusercontent.com/GoogleCloudPlatform/generative-ai/main/gemini/prompts/intro_prompt_design.ipynb\">\n",
    "      <img src=\"https://lh3.googleusercontent.com/UiNooY4LUgW_oTvpsNhPpQzsstV5W8F7rYgxgGBD85cWJoLmrOzhVs_ksK_vgx40SHs7jCqkTkCk=e14-rj-sc0xffffff-h130-w32\" alt=\"Vertex AI logo\"><br> Open in Workbench\n",
    "    </a>\n",
    "  </td>\n",
    "  <td style=\"text-align: center\">\n",
    "    <a href=\"https://github.com/GoogleCloudPlatform/generative-ai/blob/main/gemini/prompts/intro_prompt_design.ipynb\">\n",
    "      <img src=\"https://cloud.google.com/ml-engine/images/github-logo-32px.png\" alt=\"GitHub logo\"><br> View on GitHub\n",
    "    </a>\n",
    "  </td>\n",
    "  <td style=\"text-align: center\">\n",
    "    <a href=\"https://goo.gle/4fWHlze\">\n",
    "      <img width=\"32px\" src=\"https://cdn.qwiklabs.com/assets/gcp_cloud-e3a77215f0b8bfa9b3f611c0d2208c7e8708ed31.svg\" alt=\"Google Cloud logo\"><br> Open in  Cloud Skills Boost\n",
    "    </a>\n",
    "  </td>\n",
    "</table>\n",
    "\n",
    "<div style=\"clear: both;\"></div>\n",
    "\n",
    "<b>Share to:</b>\n",
    "\n",
    "<a href=\"https://www.linkedin.com/sharing/share-offsite/?url=https%3A//github.com/GoogleCloudPlatform/generative-ai/blob/main/gemini/prompts/intro_prompt_design.ipynb\" target=\"_blank\">\n",
    "  <img width=\"20px\" src=\"https://upload.wikimedia.org/wikipedia/commons/8/81/LinkedIn_icon.svg\" alt=\"LinkedIn logo\">\n",
    "</a>\n",
    "\n",
    "<a href=\"https://bsky.app/intent/compose?text=https%3A//github.com/GoogleCloudPlatform/generative-ai/blob/main/gemini/prompts/intro_prompt_design.ipynb\" target=\"_blank\">\n",
    "  <img width=\"20px\" src=\"https://upload.wikimedia.org/wikipedia/commons/7/7a/Bluesky_Logo.svg\" alt=\"Bluesky logo\">\n",
    "</a>\n",
    "\n",
    "<a href=\"https://twitter.com/intent/tweet?url=https%3A//github.com/GoogleCloudPlatform/generative-ai/blob/main/gemini/prompts/intro_prompt_design.ipynb\" target=\"_blank\">\n",
    "  <img width=\"20px\" src=\"https://upload.wikimedia.org/wikipedia/commons/5/5a/X_icon_2.svg\" alt=\"X logo\">\n",
    "</a>\n",
    "\n",
    "<a href=\"https://reddit.com/submit?url=https%3A//github.com/GoogleCloudPlatform/generative-ai/blob/main/gemini/prompts/intro_prompt_design.ipynb\" target=\"_blank\">\n",
    "  <img width=\"20px\" src=\"https://redditinc.com/hubfs/Reddit%20Inc/Brand/Reddit_Logo.png\" alt=\"Reddit logo\">\n",
    "</a>\n",
    "\n",
    "<a href=\"https://www.facebook.com/sharer/sharer.php?u=https%3A//github.com/GoogleCloudPlatform/generative-ai/blob/main/gemini/prompts/intro_prompt_design.ipynb\" target=\"_blank\">\n",
    "  <img width=\"20px\" src=\"https://upload.wikimedia.org/wikipedia/commons/5/51/Facebook_f_logo_%282019%29.svg\" alt=\"Facebook logo\">\n",
    "</a>            "
   ]
  },
  {
   "cell_type": "markdown",
   "metadata": {
    "id": "84f0f73a0f76"
   },
   "source": [
    "| Authors |\n",
    "| --- |\n",
    "| [Polong Lin](https://github.com/polong-lin) |\n",
    "| [Karl Weinmeister](https://github.com/kweinmeister) |"
   ]
  },
  {
   "cell_type": "markdown",
   "metadata": {
    "id": "tvgnzT1CKxrO"
   },
   "source": [
    "## Overview\n",
    "\n",
    "This notebook covers the essentials of prompt engineering, including some best practices.\n",
    "\n",
    "Learn more about prompt design in the [official documentation](https://cloud.google.com/vertex-ai/docs/generative-ai/text/text-overview).\n",
    "\n",
    "In this notebook, you learn best practices around prompt engineering -- how to design prompts to improve the quality of your responses.\n",
    "\n",
    "This notebook covers the following best practices for prompt engineering:\n",
    "\n",
    "- Be concise\n",
    "- Be specific and well-defined\n",
    "- Ask one task at a time\n",
    "- Turn generative tasks into classification tasks\n",
    "- Improve response quality by including examples"
   ]
  },
  {
   "cell_type": "markdown",
   "metadata": {
    "id": "61RBz8LLbxCR"
   },
   "source": [
    "## Getting Started"
   ]
  },
  {
   "cell_type": "markdown",
   "metadata": {
    "id": "No17Cw5hgx12"
   },
   "source": [
    "### Install Google Gen AI SDK\n"
   ]
  },
  {
   "cell_type": "code",
   "execution_count": 4,
   "metadata": {
    "id": "tFy3H3aPgx12",
    "tags": []
   },
   "outputs": [
    {
     "name": "stdout",
     "output_type": "stream",
     "text": [
      "Note: you may need to restart the kernel to use updated packages.\n"
     ]
    }
   ],
   "source": [
    "%pip install --upgrade --quiet google-genai"
   ]
  },
  {
   "cell_type": "markdown",
   "metadata": {},
   "source": [
    "### Restart runtime\n",
    "\n",
    "To use the newly installed packages in this Jupyter runtime, you must restart the runtime. You can do this by running the cell below, which will restart the current kernel."
   ]
  },
  {
   "cell_type": "code",
   "execution_count": 5,
   "metadata": {
    "tags": []
   },
   "outputs": [
    {
     "data": {
      "text/plain": [
       "{'status': 'ok', 'restart': True}"
      ]
     },
     "execution_count": 5,
     "metadata": {},
     "output_type": "execute_result"
    }
   ],
   "source": [
    "import IPython\n",
    "\n",
    "app = IPython.Application.instance()\n",
    "app.kernel.do_shutdown(True)"
   ]
  },
  {
   "cell_type": "markdown",
   "metadata": {},
   "source": [
    "<div class=\"alert alert-block alert-warning\">\n",
    "<b>⚠️ The kernel is going to restart. Please wait until it is finished before continuing to the next step. ⚠️</b>\n",
    "</div>\n"
   ]
  },
  {
   "cell_type": "markdown",
   "metadata": {
    "id": "dmWOrTJ3gx13"
   },
   "source": [
    "### Authenticate your notebook environment (Colab only)\n",
    "\n",
    "Authenticate your environment on Google Colab.\n"
   ]
  },
  {
   "cell_type": "code",
   "execution_count": 1,
   "metadata": {
    "id": "NyKGtVQjgx13",
    "tags": []
   },
   "outputs": [],
   "source": [
    "import sys\n",
    "\n",
    "if \"google.colab\" in sys.modules:\n",
    "    from google.colab import auth\n",
    "\n",
    "    auth.authenticate_user()"
   ]
  },
  {
   "cell_type": "markdown",
   "metadata": {
    "id": "06489bd14f16"
   },
   "source": [
    "### Import libraries\n"
   ]
  },
  {
   "cell_type": "code",
   "execution_count": 2,
   "metadata": {
    "id": "154137022fb6",
    "tags": []
   },
   "outputs": [],
   "source": [
    "from IPython.display import Markdown, display\n",
    "from google import genai\n",
    "from google.genai.types import GenerateContentConfig"
   ]
  },
  {
   "cell_type": "markdown",
   "metadata": {
    "id": "DF4l8DTdWgPY"
   },
   "source": [
    "### Set Google Cloud project information and create client\n",
    "\n",
    "To get started using Vertex AI, you must have an existing Google Cloud project and [enable the Vertex AI API](https://console.cloud.google.com/flows/enableapi?apiid=aiplatform.googleapis.com).\n",
    "\n",
    "Learn more about [setting up a project and a development environment](https://cloud.google.com/vertex-ai/docs/start/cloud-environment).\n",
    "\n",
    "Initialize the Gen AI SDK for Python for your project."
   ]
  },
  {
   "cell_type": "code",
   "execution_count": 3,
   "metadata": {
    "id": "Nqwi-5ufWp_B",
    "tags": []
   },
   "outputs": [],
   "source": [
    "# Define project information\n",
    "PROJECT_ID = \"qwiklabs-gcp-02-e1763778acfe\"  # @param {type:\"string\"}\n",
    "LOCATION = \"europe-west4\"  # @param {type:\"string\"}\n",
    "\n",
    "# Create the API client\n",
    "from google import genai\n",
    "client = genai.Client(vertexai=True, project=PROJECT_ID, location=LOCATION)"
   ]
  },
  {
   "cell_type": "markdown",
   "metadata": {
    "id": "OnFPpCRtXRl4"
   },
   "source": [
    "### Load model\n",
    "\n",
    "Learn more about all [Gemini models on Vertex AI](https://cloud.google.com/vertex-ai/generative-ai/docs/learn/models#gemini-models)."
   ]
  },
  {
   "cell_type": "code",
   "execution_count": 4,
   "metadata": {
    "id": "IQYu_9SvXQah",
    "tags": []
   },
   "outputs": [],
   "source": [
    "MODEL_ID = \"gemini-2.0-flash-001\"  # @param {type: \"string\"}"
   ]
  },
  {
   "cell_type": "markdown",
   "metadata": {
    "id": "cVOtUNJ5X0PY"
   },
   "source": [
    "## Prompt engineering best practices"
   ]
  },
  {
   "cell_type": "markdown",
   "metadata": {
    "id": "uv_e0fEPX60q"
   },
   "source": [
    "Prompt engineering is all about how to design your prompts so that the response is what you were indeed hoping to see.\n",
    "\n",
    "The idea of using \"unfancy\" prompts is to minimize the noise in your prompt to reduce the possibility of the LLM misinterpreting the intent of the prompt. Below are a few guidelines on how to engineer \"unfancy\" prompts.\n",
    "\n",
    "In this section, you'll cover the following best practices when engineering prompts:\n",
    "\n",
    "* Be concise\n",
    "* Be specific, and well-defined\n",
    "* Ask one task at a time\n",
    "* Improve response quality by including examples\n",
    "* Turn generative tasks to classification tasks to improve safety"
   ]
  },
  {
   "cell_type": "markdown",
   "metadata": {
    "id": "0pY4XX0OX9_Y"
   },
   "source": [
    "### Be concise"
   ]
  },
  {
   "cell_type": "markdown",
   "metadata": {
    "id": "xlRpxyxGYA1K"
   },
   "source": [
    "🛑 Not recommended. The prompt below is unnecessarily verbose."
   ]
  },
  {
   "cell_type": "code",
   "execution_count": 5,
   "metadata": {
    "id": "YKV4G-CfXdbi",
    "tags": []
   },
   "outputs": [
    {
     "data": {
      "text/markdown": [
       "Okay, here are some name ideas for a dried flower shop, playing on different angles:\n",
       "\n",
       "**Emphasizing Preservation & Longevity:**\n",
       "\n",
       "*   **Everbloom Atelier:** (Atelier implies artistry and skill)\n",
       "*   **Timeless Petals:** Simple, elegant, and clear.\n",
       "*   **Lasting Blooms:** Similar to Timeless Petals.\n",
       "*   **The Dried Flower Co.:** Simple, straightforward, and modern.\n",
       "*   **Preserved Petals:** A bit more direct.\n",
       "*   **Forever Flora:** Evokes the lasting nature.\n",
       "*   **The Eternal Bloom:** More poetic and romantic.\n",
       "*   **Bloom & Sustain:** Highlights beauty and endurance.\n",
       "*   **Dried & True:** Catchy and memorable.\n",
       "\n",
       "**Highlighting Artistry & Craft:**\n",
       "\n",
       "*   **Botanical Studio:** Sounds professional and artistic.\n",
       "*   **The Dried Bouquet:** Simple, focus is on bouquets.\n",
       "*   **Artisan Flora:** Emphasizes the handmade quality.\n",
       "*   **Petal & Plume:** Suggests texture and artistry.\n",
       "*   **The Still Life Florist:** Connects to artistic tradition.\n",
       "*   **Golden Fields Design:** Connects to the natural aesthetic.\n",
       "\n",
       "**Focusing on Nature & Texture:**\n",
       "\n",
       "*   **Harvest Moon Flora:** Suggests rustic beauty and natural processes.\n",
       "*   **Sunbaked Blooms:** Evokes a natural, sun-dried feel.\n",
       "*   **Wildflower & Wax:** A good blend of nature and craft\n",
       "*   **Textured Petals:** Highlights the unique feel of dried flowers.\n",
       "*   **Earthen Blooms:** Connects to the natural world.\n",
       "*   **Golden Hour Flora:** Evokes the warm, soft light that complements dried flowers.\n",
       "\n",
       "**Modern & Minimalist:**\n",
       "\n",
       "*   **Dried:** Simple, direct, and trendy.\n",
       "*   **Bloom Studio:** Short, clean, and versatile.\n",
       "*   **The Stalk Market:** A cheeky, modern pun. (Could be polarizing).\n",
       "*   **Dry Goods Floral:** A play on words.\n",
       "*   **Gathered:** Emphasizes collecting and arranging.\n",
       "\n",
       "**More Unique & Evocative:**\n",
       "\n",
       "*   **The Herbarium:** Suggests a collection of preserved botanicals.\n",
       "*   **Remnant Blooms:** A bit more mysterious and poetic.\n",
       "*   **Whisper & Wild:** Suggests a delicate, natural feel.\n",
       "*   **Amber Flora:** Evokes the warm, golden tones of dried flowers.\n",
       "*   **The Golden Thistle:** Specific, memorable, and suggests rustic beauty.\n",
       "*    **Solstice Petals:** Evokes seasonality and nature.\n",
       "\n",
       "**Tips for Choosing:**\n",
       "\n",
       "*   **Consider your target audience:** Are you aiming for a modern, minimalist aesthetic or a more romantic, rustic one?\n",
       "*   **Check for availability:** Make sure the name isn't already in use (business name, domain name, social media handles).\n",
       "*   **Say it out loud:** Does it sound good? Is it easy to remember?\n",
       "*   **Get feedback:** Ask friends, family, or potential customers what they think.\n",
       "\n",
       "I hope this gives you a good starting point! Good luck!\n"
      ],
      "text/plain": [
       "<IPython.core.display.Markdown object>"
      ]
     },
     "metadata": {},
     "output_type": "display_data"
    }
   ],
   "source": [
    "prompt = \"What do you think could be a good name for a flower shop that specializes in selling bouquets of dried flowers more than fresh flowers?\"\n",
    "\n",
    "response = client.models.generate_content(model=MODEL_ID, contents=prompt)\n",
    "display(Markdown(response.text))"
   ]
  },
  {
   "cell_type": "markdown",
   "metadata": {
    "id": "YrJexRHJYnmC"
   },
   "source": [
    "✅ Recommended. The prompt below is to the point and concise."
   ]
  },
  {
   "cell_type": "code",
   "execution_count": 6,
   "metadata": {
    "id": "VHetn9lCYrXB",
    "tags": []
   },
   "outputs": [
    {
     "data": {
      "text/markdown": [
       "Okay, here are some name suggestions for a dried flower shop, broken down by style:\n",
       "\n",
       "**Elegant & Classic:**\n",
       "\n",
       "*   The Everbloom Studio\n",
       "*   Petrified Petals\n",
       "*   Dried & True Floral\n",
       "*   The Preserved Posy\n",
       "*   Lasting Blooms\n",
       "*   Eternal Florals\n",
       "*   The Still Life Florist\n",
       "*   Timeless Blossoms\n",
       "\n",
       "**Modern & Chic:**\n",
       "\n",
       "*   Dry Haus\n",
       "*   The Dried Stem\n",
       "*   Botanical Remains\n",
       "*   The Unfading Bloom\n",
       "*   Dust & Bloom\n",
       "*   Everlasting\n",
       "*   Dried Goods\n",
       "*   The Bloom Archive\n",
       "\n",
       "**Rustic & Natural:**\n",
       "\n",
       "*   The Wildflower Keep\n",
       "*   Prairie Dry\n",
       "*   The Gathered Stem\n",
       "*   Harvest & Bloom\n",
       "*   The Dusty Miller\n",
       "*   Meadow Dried\n",
       "*   The Rustic Rose\n",
       "\n",
       "**Whimsical & Playful:**\n",
       "\n",
       "*   The Fairy's Herbarium\n",
       "*   Dried Delights\n",
       "*   Petal Pusher (Dry Edition)\n",
       "*   The Botanical Alchemist\n",
       "*   Bloom & Bone\n",
       "*   The Curious Bloom\n",
       "\n",
       "**Location Specific (If Applicable):**\n",
       "\n",
       "*   [Town/Region Name] Dried Flowers\n",
       "*   [Street Name] Florals\n",
       "*   The [Landmark] Bloomery\n",
       "\n",
       "**Tips for Choosing:**\n",
       "\n",
       "*   **Consider your target audience:** Are you aiming for a high-end clientele or a more casual market?\n",
       "*   **Check for availability:** Make sure the name isn't already in use (business name, domain name, social media handles).\n",
       "*   **Say it out loud:** Does it sound good and memorable?\n",
       "*   **Get feedback:** Ask friends, family, or potential customers for their opinions.\n",
       "\n",
       "I hope this helps! Let me know if you'd like more suggestions or variations on these.\n"
      ],
      "text/plain": [
       "<IPython.core.display.Markdown object>"
      ]
     },
     "metadata": {},
     "output_type": "display_data"
    }
   ],
   "source": [
    "prompt = \"Suggest a name for a flower shop that sells bouquets of dried flowers\"\n",
    "\n",
    "response = client.models.generate_content(model=MODEL_ID, contents=prompt)\n",
    "display(Markdown(response.text))"
   ]
  },
  {
   "cell_type": "markdown",
   "metadata": {
    "id": "eXTAvdOHY0OC"
   },
   "source": [
    "### Be specific, and well-defined"
   ]
  },
  {
   "cell_type": "markdown",
   "metadata": {
    "id": "FTH4GEIgY1dp"
   },
   "source": [
    "Suppose that you want to brainstorm creative ways to describe Earth."
   ]
  },
  {
   "cell_type": "markdown",
   "metadata": {
    "id": "o5BmXBiGY4KC"
   },
   "source": [
    "🛑 The prompt below might be a bit too generic (which is certainly OK if you'd like to ask a generic question!)"
   ]
  },
  {
   "cell_type": "code",
   "execution_count": 7,
   "metadata": {
    "id": "eHBaMvv7Y6mR",
    "tags": []
   },
   "outputs": [
    {
     "data": {
      "text/markdown": [
       "Okay, let's dive into the fascinating world of our home planet, Earth! Here's a comprehensive overview:\n",
       "\n",
       "**Basic Facts:**\n",
       "\n",
       "*   **Name:** Earth (also known as Terra)\n",
       "*   **Rank in Solar System:** 3rd planet from the Sun.\n",
       "*   **Type:** Terrestrial (rocky) planet.\n",
       "*   **Diameter:** Approximately 12,742 kilometers (7,918 miles).\n",
       "*   **Mass:** Approximately 5.97 x 10^24 kilograms.\n",
       "*   **Orbit:**  Nearly elliptical orbit around the Sun.\n",
       "*   **Orbital Period:** 365.25 days (one year). This is why we have leap years!\n",
       "*   **Rotation Period:** Approximately 24 hours (one day).\n",
       "*   **Moons:** One natural satellite: The Moon (Luna).\n",
       "*   **Atmosphere:** Primarily nitrogen (about 78%) and oxygen (about 21%), with trace amounts of other gases like argon, carbon dioxide, and water vapor.\n",
       "*   **Surface:** Diverse, with about 71% covered by liquid water (oceans, seas, lakes, rivers) and 29% by land (continents, islands).\n",
       "\n",
       "**Key Features and Characteristics:**\n",
       "\n",
       "*   **Life:** Earth is the only known planet to harbor life.  It supports an incredibly diverse range of organisms, from microscopic bacteria to giant whales.  The presence of liquid water, a protective atmosphere, a stable climate, and a magnetic field are all crucial for life as we know it.\n",
       "*   **Water:** Abundant liquid water is one of Earth's defining features. It plays a critical role in weather patterns, climate regulation, and biological processes.\n",
       "*   **Atmosphere:**\n",
       "    *   **Protects:** The atmosphere shields the surface from harmful solar radiation and cosmic rays.\n",
       "    *   **Regulates Temperature:** It traps heat, creating a habitable temperature range.  The \"greenhouse effect,\" caused by gases like carbon dioxide, methane, and water vapor, plays a vital role in this process.\n",
       "    *   **Provides Air:** It provides the oxygen that most life forms need to breathe.\n",
       "*   **Geology:**\n",
       "    *   **Plate Tectonics:**  Earth's outer layer (the lithosphere) is divided into several large and small plates that are constantly moving.  This movement causes earthquakes, volcanic eruptions, and the formation of mountains.\n",
       "    *   **Layers:**  Earth has a layered structure:\n",
       "        *   **Crust:** The thin, outer layer (oceanic and continental crust).\n",
       "        *   **Mantle:** A thick, mostly solid layer beneath the crust.\n",
       "        *   **Outer Core:** A liquid layer composed primarily of iron and nickel.\n",
       "        *   **Inner Core:** A solid sphere of iron and nickel at the Earth's center.\n",
       "*   **Magnetic Field:** Generated by the movement of liquid iron in the outer core. It protects Earth from harmful solar wind, which would otherwise strip away the atmosphere.\n",
       "*   **Climate:** Earth has a complex climate system influenced by solar radiation, atmospheric composition, ocean currents, and other factors.  Climate change, driven by human activities (primarily the burning of fossil fuels), is a major concern, leading to rising temperatures, changes in precipitation patterns, and other environmental effects.\n",
       "*   **Seasons:** Earth's axial tilt (about 23.5 degrees) causes the seasons. As Earth orbits the Sun, different hemispheres are tilted towards or away from the Sun, resulting in variations in sunlight intensity and duration.\n",
       "*   **The Moon:**  Earth's only natural satellite is believed to have formed from debris resulting from a giant impact between early Earth and a Mars-sized object. The Moon influences Earth's tides and helps stabilize its axial tilt.\n",
       "*   **Biosphere:** The biosphere is the global ecological system integrating all living beings and their relationships, including their interaction with the elements of the lithosphere, hydrosphere, and atmosphere.\n",
       "\n",
       "**Unique Aspects:**\n",
       "\n",
       "*   **Only Known Home to Life:** Earth's unique combination of factors makes it the only known planet to support life.\n",
       "*   **Liquid Water on the Surface:**  A rarity in our solar system.\n",
       "*   **Plate Tectonics:** While evidence suggests some other planets may have had some form of plate tectonics in the past, Earth is the only planet in our solar system where it is known to be currently active.\n",
       "*   **Oxygen-Rich Atmosphere:**  Largely a result of photosynthesis by plants and algae.\n",
       "\n",
       "**Importance:**\n",
       "\n",
       "*   **Our Home:** It's the only planet we know of that can support human life.\n",
       "*   **Resource Provider:**  Earth provides us with essential resources like water, food, minerals, and energy.\n",
       "*   **Biodiversity Hotspot:** Home to a vast array of plant and animal species that are essential for maintaining ecological balance.\n",
       "*   **Scientific Study:** Studying Earth helps us understand planetary processes and the conditions that make a planet habitable. It also helps us search for life beyond Earth.\n",
       "\n",
       "**Ongoing Research:**\n",
       "\n",
       "Scientists are constantly studying Earth to:\n",
       "\n",
       "*   Understand climate change and its impacts.\n",
       "*   Monitor geological hazards (earthquakes, volcanoes).\n",
       "*   Explore the deep ocean and its ecosystems.\n",
       "*   Search for new resources.\n",
       "*   Protect biodiversity.\n",
       "*   Improve our understanding of Earth's history and evolution.\n",
       "\n",
       "In summary, Earth is a dynamic, complex, and precious planet. Its unique characteristics make it a truly special place in the universe.\n"
      ],
      "text/plain": [
       "<IPython.core.display.Markdown object>"
      ]
     },
     "metadata": {},
     "output_type": "display_data"
    }
   ],
   "source": [
    "prompt = \"Tell me about Earth\"\n",
    "\n",
    "response = client.models.generate_content(model=MODEL_ID, contents=prompt)\n",
    "display(Markdown(response.text))"
   ]
  },
  {
   "cell_type": "markdown",
   "metadata": {
    "id": "4iyvEbteZnFL"
   },
   "source": [
    "✅ Recommended. The prompt below is specific and well-defined."
   ]
  },
  {
   "cell_type": "code",
   "execution_count": 8,
   "metadata": {
    "id": "JQ80z8urZnne",
    "tags": []
   },
   "outputs": [
    {
     "data": {
      "text/markdown": [
       "Okay, here's a list of factors that make Earth unique compared to other planets we know of (and why they are important):\n",
       "\n",
       "**Fundamental Factors:**\n",
       "\n",
       "*   **Liquid Water on the Surface:** This is arguably the most critical. Liquid water is essential for all life as we know it, acting as a solvent for chemical reactions and a transport medium. Earth's temperature and atmospheric pressure allow water to exist in liquid form over a significant portion of the planet.\n",
       "\n",
       "*   **Presence of a Substantial Atmosphere with Oxygen:** Earth's atmosphere is unique in its composition, particularly the abundance of free oxygen (around 21%). This oxygen is primarily produced by photosynthetic organisms (plants and algae) and is crucial for complex life forms that rely on aerobic respiration. The atmosphere also protects us from harmful radiation.\n",
       "\n",
       "*   **Plate Tectonics:** Earth is the only known planet with active plate tectonics. The movement of these plates recycles elements, drives geological activity (volcanoes, earthquakes), and influences climate over long timescales. It helps to regulate Earth's temperature and redistribute heat from the interior.\n",
       "\n",
       "*   **A Strong Magnetic Field:** Generated by the Earth's molten iron core, the magnetic field deflects the solar wind and cosmic radiation, protecting the atmosphere and life on the surface from harmful particles.\n",
       "\n",
       "**Factors Influencing Life & Habitability:**\n",
       "\n",
       "*   **Right Distance from the Sun (Habitable Zone):** Earth resides in the \"Goldilocks zone,\" the region around the Sun where temperatures are just right for liquid water to exist on the surface.\n",
       "\n",
       "*   **Stable Axial Tilt and Rotation:** Earth's relatively stable axial tilt (obliquity) of about 23.5 degrees gives us seasons. This tilt, along with Earth's rotation period, contributes to a relatively stable climate over time. The Moon plays a vital role in stabilizing Earth's axial tilt.\n",
       "\n",
       "*   **Abundant and Diverse Life:** While the possibility of life on other planets hasn't been ruled out, Earth is the only planet we know for certain that hosts life, and that life is incredibly diverse, ranging from single-celled organisms to complex ecosystems. The existence of abundant life has drastically changed the planet's atmosphere and geology.\n",
       "\n",
       "*   **The Presence of a Large Moon:** The Moon's gravity stabilizes Earth's axial tilt, preventing extreme climate variations. It also influences tides, which may have played a role in the evolution of life.\n",
       "\n",
       "**Factors Related to Composition & History:**\n",
       "\n",
       "*   **A Unique Geochemical Composition:** The specific mix of elements and minerals on Earth's surface and in its interior has shaped its geological processes and influenced the development of life.\n",
       "\n",
       "*   **A Dynamic History:** Earth has undergone significant changes throughout its history, including periods of intense volcanism, asteroid impacts, and ice ages. These events have shaped the planet and influenced the evolution of life.\n",
       "\n",
       "*   **Atmospheric Pressure:** The atmospheric pressure is just right for liquid water to exist and for life to thrive.\n",
       "\n",
       "**Important Considerations:**\n",
       "\n",
       "*   **We are limited by our current knowledge:** Our understanding of exoplanets is still evolving. As we discover more planets and develop better methods for studying them, we may find other planets that share some of Earth's unique characteristics.\n",
       "*   **The definition of \"unique\" is relative:** Some of these features might exist on other planets in some form. It's the *combination* of all these factors that truly makes Earth special.\n",
       "\n",
       "In essence, Earth's uniqueness arises from a complex interplay of physical, chemical, and biological factors that have created a planet capable of supporting a vast and diverse biosphere.\n"
      ],
      "text/plain": [
       "<IPython.core.display.Markdown object>"
      ]
     },
     "metadata": {},
     "output_type": "display_data"
    }
   ],
   "source": [
    "prompt = \"Generate a list of ways that makes Earth unique compared to other planets\"\n",
    "\n",
    "response = client.models.generate_content(model=MODEL_ID, contents=prompt)\n",
    "display(Markdown(response.text))"
   ]
  },
  {
   "cell_type": "markdown",
   "metadata": {
    "id": "R5kmfZYHZsJ7"
   },
   "source": [
    "### Ask one task at a time"
   ]
  },
  {
   "cell_type": "markdown",
   "metadata": {
    "id": "rsAezxeYZuUN"
   },
   "source": [
    "🛑 Not recommended. The prompt below has two parts to the question that could be asked separately."
   ]
  },
  {
   "cell_type": "code",
   "execution_count": 9,
   "metadata": {
    "id": "ElywPXpuZtWf",
    "tags": []
   },
   "outputs": [
    {
     "data": {
      "text/markdown": [
       "Okay, let's break down both questions:\n",
       "\n",
       "**Best Method of Boiling Water**\n",
       "\n",
       "There's no single \"best\" method; it depends on your needs and resources. Here's a breakdown of common methods and their pros and cons:\n",
       "\n",
       "*   **Electric Kettle:**\n",
       "\n",
       "    *   **Pros:** Fast, energy-efficient (usually), convenient, often have auto shut-off. Many have temperature controls for specific teas.\n",
       "    *   **Cons:** Requires electricity, single-use appliance (dedicated to boiling water). Can take up counter space.\n",
       "\n",
       "*   **Stovetop Kettle (Gas or Electric Stove):**\n",
       "\n",
       "    *   **Pros:**  Versatile (works on any stove), durable. Some models have whistles to indicate boiling.\n",
       "    *   **Cons:** Can be slower than electric kettles. Requires attention to prevent boiling dry. Can be less energy efficient than dedicated electric kettle.\n",
       "\n",
       "*   **Microwave:**\n",
       "\n",
       "    *   **Pros:**  Fast (for small amounts), convenient, no extra appliance needed.\n",
       "    *   **Cons:** Uneven heating (can lead to superheated water, which can explosively boil when disturbed), can impart a plastic taste depending on the container, generally not recommended for larger volumes. Not as energy efficient as an electric kettle.\n",
       "\n",
       "*   **Hot Water Dispenser (built into fridge/sink):**\n",
       "\n",
       "    *   **Pros:** Instant hot water, convenient, often filtered.\n",
       "    *   **Cons:** Expensive to install, requires plumbing and electricity.\n",
       "\n",
       "*   **Camping Stove (Propane/Butane):**\n",
       "\n",
       "    *   **Pros:** Portable, useful in emergencies or outdoors.\n",
       "    *   **Cons:** Requires fuel, can be slower than other methods, can be less safe indoors.\n",
       "\n",
       "*   **Open Fire:**\n",
       "\n",
       "    *   **Pros:**  Traditional, useful in survival situations.\n",
       "    *   **Cons:** Slow, smoky, requires careful management, can be dangerous.\n",
       "\n",
       "**In summary:**\n",
       "\n",
       "*   For everyday use, an **electric kettle** is generally the most efficient and convenient option.\n",
       "*   For versatility, a **stovetop kettle** is a good choice.\n",
       "*   For small amounts and quickness (but with caution), a **microwave** can work.\n",
       "*   For emergencies or camping, a **camping stove** or open fire are necessary.\n",
       "\n",
       "**Why is the Sky Blue?**\n",
       "\n",
       "The sky is blue due to a phenomenon called **Rayleigh scattering.** Here's the breakdown:\n",
       "\n",
       "1.  **Sunlight and Colors:**  Sunlight is made up of all the colors of the rainbow.\n",
       "\n",
       "2.  **Entering the Atmosphere:** When sunlight enters the Earth's atmosphere, it collides with tiny air molecules (mostly nitrogen and oxygen).\n",
       "\n",
       "3.  **Scattering of Light:** This collision causes the sunlight to scatter in different directions.  Shorter wavelengths of light (blue and violet) are scattered *much more* effectively than longer wavelengths (red and orange).  Rayleigh scattering is inversely proportional to the fourth power of the wavelength (1/λ⁴). This means that blue light (shorter wavelength) is scattered about ten times more than red light.\n",
       "\n",
       "4.  **Why Not Violet?** Violet light is scattered even more than blue light. However, there are a couple of reasons why the sky appears blue and not violet:\n",
       "    *   The sun emits slightly less violet light than blue light.\n",
       "    *   Our eyes are more sensitive to blue light than violet light.\n",
       "    *   Some of the violet light is absorbed by the upper atmosphere.\n",
       "\n",
       "5.  **The Result:**  Because blue light is scattered so much more than other colors, it's scattered all over the sky.  This scattered blue light reaches our eyes from all directions, making the sky appear blue.\n",
       "\n",
       "**In Simple Terms:**\n",
       "\n",
       "Imagine throwing a handful of different-sized marbles at a bunch of tiny obstacles. The smaller marbles (blue light) will bounce off in all directions much more than the larger marbles (red light). That's basically what's happening with sunlight and the air molecules in our atmosphere.\n",
       "\n",
       "**Sunrise/Sunset - Red Skies:**\n",
       "\n",
       "At sunrise and sunset, the sunlight has to travel through much more of the atmosphere to reach our eyes.  This means that most of the blue light has already been scattered away by the time it reaches us.  The longer wavelengths of light (red and orange) are less easily scattered and can pass through the atmosphere to reach our eyes, giving us the beautiful red and orange colors we see at sunrise and sunset.\n"
      ],
      "text/plain": [
       "<IPython.core.display.Markdown object>"
      ]
     },
     "metadata": {},
     "output_type": "display_data"
    }
   ],
   "source": [
    "prompt = \"What's the best method of boiling water and why is the sky blue?\"\n",
    "\n",
    "response = client.models.generate_content(model=MODEL_ID, contents=prompt)\n",
    "display(Markdown(response.text))"
   ]
  },
  {
   "cell_type": "markdown",
   "metadata": {
    "id": "ejzahazBZ8vk"
   },
   "source": [
    "✅ Recommended. The prompts below asks one task a time."
   ]
  },
  {
   "cell_type": "code",
   "execution_count": 10,
   "metadata": {
    "id": "C5ckp2F0Z_Ba",
    "tags": []
   },
   "outputs": [
    {
     "data": {
      "text/markdown": [
       "The \"best\" method of boiling water depends on your priorities and the resources available. Here's a breakdown of the most common methods and their pros and cons:\n",
       "\n",
       "**1. Electric Kettle:**\n",
       "\n",
       "*   **Pros:**\n",
       "    *   **Fastest:** Typically boils water the quickest, especially for small to medium amounts.\n",
       "    *   **Convenient:** Easy to use, often with automatic shut-off.\n",
       "    *   **Energy Efficient (for small amounts):** Often more energy-efficient than other methods for boiling small quantities because they heat only the water.\n",
       "    *   **Safe:** Designed with safety features like automatic shut-off and cool-touch exteriors.\n",
       "*   **Cons:**\n",
       "    *   **Requires Electricity:** Not suitable for camping or off-grid situations.\n",
       "    *   **Can be bulky:** Some models take up a lot of counter space.\n",
       "    *   **Potential scale build-up:** Needs occasional cleaning to remove mineral deposits.\n",
       "\n",
       "**2. Stovetop Kettle/Pot:**\n",
       "\n",
       "*   **Pros:**\n",
       "    *   **Versatile:** Can be used on any stovetop (gas, electric, induction).\n",
       "    *   **No electricity needed (gas stove):**  Useful in power outages.\n",
       "    *   **Durable:**  Good quality kettles can last for years.\n",
       "    *   **Often inexpensive:** A basic pot is already a kitchen staple.\n",
       "*   **Cons:**\n",
       "    *   **Slower than electric kettles:** Can take longer to boil, especially large pots.\n",
       "    *   **Less energy efficient:** Heating a large pot can waste energy if you only need a small amount of water.\n",
       "    *   **Requires monitoring:**  You need to watch it to prevent boiling over.\n",
       "\n",
       "**3. Microwave:**\n",
       "\n",
       "*   **Pros:**\n",
       "    *   **Quick (for small amounts):** Can be fast for a single cup of water.\n",
       "    *   **Readily available:** Most homes have a microwave.\n",
       "*   **Cons:**\n",
       "    *   **Uneven heating:** Microwaves can heat water unevenly, creating \"superheated\" water that can erupt violently when disturbed.  **This is a safety hazard.**\n",
       "    *   **Not recommended for large amounts:** Not efficient for boiling large quantities.\n",
       "    *   **Risk of burns:**  Superheated water can cause serious burns.  **Always use a microwave-safe container and insert a wooden chopstick or popsicle stick to disrupt surface tension to prevent superheating.**\n",
       "    *   **Can affect taste:**  Some people find that microwaved water has a slightly different taste.\n",
       "\n",
       "**4. Campfire/Outdoor Stove:**\n",
       "\n",
       "*   **Pros:**\n",
       "    *   **Useful for camping/outdoors:** Ideal when electricity isn't available.\n",
       "    *   **Rugged:**  Designed for outdoor use.\n",
       "*   **Cons:**\n",
       "    *   **Slower:** Can take a long time to boil, especially over a campfire.\n",
       "    *   **Requires fuel:**  Needs wood, propane, or other fuel source.\n",
       "    *   **Less precise:**  Difficult to control the temperature.\n",
       "    *   **Potentially sooty:**  Campfire pots can get covered in soot.\n",
       "\n",
       "**Summary Table:**\n",
       "\n",
       "| Method             | Speed        | Convenience | Energy Efficiency (Small Amount) | Safety         | Pros                                                        | Cons                                                                |\n",
       "|----------------------|--------------|-------------|-----------------------------------|-----------------|-------------------------------------------------------------|---------------------------------------------------------------------|\n",
       "| Electric Kettle     | Fastest      | High        | High                               | High           | Fastest, convenient, energy-efficient (small amounts)      | Requires electricity, can be bulky                                |\n",
       "| Stovetop Kettle/Pot | Moderate     | Moderate    | Low                                | Moderate       | Versatile, no electricity needed (gas), durable             | Slower, less energy efficient, requires monitoring                     |\n",
       "| Microwave           | Quick (Small) | High        | Moderate                            | **LOW**          | Quick for small amounts, readily available                | Uneven heating, risk of burns (superheating), not for large amounts |\n",
       "| Campfire/Outdoor Stove| Slow         | Low         | N/A                                | Moderate       | Useful for camping, rugged                                   | Slower, requires fuel, less precise                                  |\n",
       "\n",
       "**Recommendation:**\n",
       "\n",
       "*   **For everyday use and speed:** An **electric kettle** is generally the best option for most people.\n",
       "*   **For power outages or gas stove users:** A **stovetop kettle/pot** is a good alternative.\n",
       "*   **Microwaving water is best avoided** due to the risk of superheating and burns.\n",
       "*   **For camping:** A **campfire or portable outdoor stove** with a suitable pot is necessary.\n",
       "\n",
       "Ultimately, the \"best\" method depends on your specific needs and situation.  Consider your priorities (speed, convenience, cost, energy efficiency, safety) and choose the method that best fits your circumstances. Remember to always practice proper safety when boiling water, regardless of the method used.\n"
      ],
      "text/plain": [
       "<IPython.core.display.Markdown object>"
      ]
     },
     "metadata": {},
     "output_type": "display_data"
    }
   ],
   "source": [
    "prompt = \"What's the best method of boiling water?\"\n",
    "\n",
    "response = client.models.generate_content(model=MODEL_ID, contents=prompt)\n",
    "display(Markdown(response.text))"
   ]
  },
  {
   "cell_type": "code",
   "execution_count": 11,
   "metadata": {
    "id": "KwUzhud4aA89",
    "tags": []
   },
   "outputs": [
    {
     "data": {
      "text/markdown": [
       "The sky is blue due to a phenomenon called **Rayleigh scattering**. Here's the breakdown:\n",
       "\n",
       "* **Sunlight and its Colors:** Sunlight appears white to us, but it's actually made up of all the colors of the rainbow (red, orange, yellow, green, blue, indigo, violet).\n",
       "\n",
       "* **Entering the Atmosphere:** When sunlight enters the Earth's atmosphere, it collides with tiny air molecules (mostly nitrogen and oxygen).\n",
       "\n",
       "* **Scattering of Light:** This collision causes the light to scatter in different directions.  Think of it like throwing tiny balls at a bunch of obstacles – they'll bounce off in all sorts of ways.\n",
       "\n",
       "* **Rayleigh Scattering and Wavelength:**  Rayleigh scattering is much more effective at scattering shorter wavelengths of light.  Blue and violet light have shorter wavelengths than red and orange light.\n",
       "\n",
       "* **Why Blue, Not Violet?** While violet light has the shortest wavelength and is scattered the most, our eyes are less sensitive to violet light, and the sun emits slightly less violet light than blue. Additionally, some violet light is absorbed higher up in the atmosphere. As a result, we perceive the sky as blue.\n",
       "\n",
       "**In simpler terms:**\n",
       "\n",
       "Imagine the atmosphere as a giant obstacle course for sunlight.  The blue and violet light are like smaller, more agile runners who get bounced around more easily by the obstacles.  The red and orange light are like larger, less agile runners who can push through the obstacles more directly.  Because the blue light is scattered everywhere, it's what we see when we look up at the sky.\n",
       "\n",
       "**Why Sunsets are Red:**\n",
       "\n",
       "When the sun is setting or rising, the sunlight has to travel through a much greater distance of atmosphere.  By the time the light reaches our eyes, much of the blue light has been scattered away. The longer wavelengths, like red and orange, are able to pass through the atmosphere more directly, giving us those beautiful sunset colors.\n"
      ],
      "text/plain": [
       "<IPython.core.display.Markdown object>"
      ]
     },
     "metadata": {},
     "output_type": "display_data"
    }
   ],
   "source": [
    "prompt = \"Why is the sky blue?\"\n",
    "\n",
    "response = client.models.generate_content(model=MODEL_ID, contents=prompt)\n",
    "display(Markdown(response.text))"
   ]
  },
  {
   "cell_type": "markdown",
   "metadata": {
    "id": "PJIL2RTQaGcT"
   },
   "source": [
    "### Watch out for hallucinations"
   ]
  },
  {
   "cell_type": "markdown",
   "metadata": {
    "id": "8Y8kYxrSaHE9"
   },
   "source": [
    "Although LLMs have been trained on a large amount of data, they can generate text containing statements not grounded in truth or reality; these responses from the LLM are often referred to as \"hallucinations\" due to their limited memorization capabilities. Note that simply prompting the LLM to provide a citation isn't a fix to this problem, as there are instances of LLMs providing false or inaccurate citations. Dealing with hallucinations is a fundamental challenge of LLMs and an ongoing research area, so it is important to be cognizant that LLMs may seem to give you confident, correct-sounding statements that are in fact incorrect.\n",
    "\n",
    "Note that if you intend to use LLMs for the creative use cases, hallucinating could actually be quite useful."
   ]
  },
  {
   "cell_type": "markdown",
   "metadata": {
    "id": "8NY5nAGeaJYS"
   },
   "source": [
    "Try the prompt like the one below repeatedly. We set the temperature to `1.0` so that it takes more risks in its choices. It's possible that it may provide an inaccurate, but confident answer."
   ]
  },
  {
   "cell_type": "code",
   "execution_count": 12,
   "metadata": {
    "id": "QALPjEILaM62",
    "tags": []
   },
   "outputs": [
    {
     "data": {
      "text/markdown": [
       "Today is Saturday, July 13, 2024.\n"
      ],
      "text/plain": [
       "<IPython.core.display.Markdown object>"
      ]
     },
     "metadata": {},
     "output_type": "display_data"
    }
   ],
   "source": [
    "generation_config = GenerateContentConfig(temperature=1.0)\n",
    "\n",
    "prompt = \"What day is it today?\"\n",
    "\n",
    "response = client.models.generate_content(model=MODEL_ID, contents=prompt)\n",
    "display(Markdown(response.text))"
   ]
  },
  {
   "cell_type": "markdown",
   "metadata": {
    "id": "BRkwzbgRbhKt"
   },
   "source": [
    "Since LLMs do not have access to real-time information without further integrations, you may have noticed it hallucinates what day it is today in some of the outputs."
   ]
  },
  {
   "cell_type": "markdown",
   "metadata": {
    "id": "3c811e310d02"
   },
   "source": [
    "### Using system instructions to guardrail the model from irrelevant responses\n",
    "\n",
    "How can we attempt to reduce the chances of irrelevant responses and hallucinations?\n",
    "\n",
    "One way is to provide the LLM with [system instructions](https://cloud.google.com/vertex-ai/generative-ai/docs/multimodal/send-chat-prompts-gemini#system-instructions).\n",
    "\n",
    "Let's see how system instructions works and how you can use them to reduce hallucinations or irrelevant questions for a travel chatbot.\n",
    "\n",
    "Suppose we ask a simple question about one of Italy's most famous tourist spots."
   ]
  },
  {
   "cell_type": "code",
   "execution_count": 13,
   "metadata": {
    "id": "rB6zJU76biFK",
    "tags": []
   },
   "outputs": [
    {
     "data": {
      "text/markdown": [
       "The most popular sightseeing destinations in Milan, Italy are:\n",
       "\n",
       "*   **Duomo di Milano:** The Milan Cathedral, is a magnificent Gothic cathedral that is a must-see.\n",
       "*   **Galleria Vittorio Emanuele II:** A stunning 19th-century shopping arcade.\n",
       "*   **Teatro alla Scala:** One of the most famous opera houses in the world.\n",
       "*   **Sforza Castle:** A historic castle that houses several museums.\n",
       "*   **Pinacoteca di Brera:** An important art gallery with a vast collection of Italian paintings."
      ],
      "text/plain": [
       "<IPython.core.display.Markdown object>"
      ]
     },
     "metadata": {},
     "output_type": "display_data"
    }
   ],
   "source": [
    "generation_config = GenerateContentConfig(temperature=1.0)\n",
    "\n",
    "chat = client.chats.create(\n",
    "    model=MODEL_ID,\n",
    "    config=GenerateContentConfig(\n",
    "        system_instruction=[\n",
    "            \"Hello! You are an AI chatbot for a travel web site.\",\n",
    "            \"Your mission is to provide helpful queries for travelers.\",\n",
    "            \"Remember that before you answer a question, you must check to see if it complies with your mission.\",\n",
    "            \"If not, you can say, Sorry I can't answer that question.\",\n",
    "        ]\n",
    "    ),\n",
    ")\n",
    "\n",
    "prompt = \"What is the best place for sightseeing in Milan, Italy?\"\n",
    "\n",
    "response = chat.send_message(prompt)\n",
    "display(Markdown(response.text))"
   ]
  },
  {
   "cell_type": "markdown",
   "metadata": {
    "id": "WZa-Qcf9cF4A"
   },
   "source": [
    "Now let us pretend to be a user asks the chatbot a question that is unrelated to travel."
   ]
  },
  {
   "cell_type": "code",
   "execution_count": 15,
   "metadata": {
    "id": "AZKBIDr2cGnu",
    "tags": []
   },
   "outputs": [
    {
     "data": {
      "text/markdown": [
       "The most popular sightseeing destinations in Milan, Italy are:\n",
       "\n",
       "*   **Duomo di Milano:** The Milan Cathedral, is a magnificent Gothic cathedral that is a must-see.\n",
       "*   **Galleria Vittorio Emanuele II:** A stunning 19th-century shopping arcade.\n",
       "*   **Teatro alla Scala:** One of the most famous opera houses in the world.\n",
       "*   **Sforza Castle:** A historic castle that houses several museums.\n",
       "*   **Pinacoteca di Brera:** An important art gallery with a vast collection of Italian paintings."
      ],
      "text/plain": [
       "<IPython.core.display.Markdown object>"
      ]
     },
     "metadata": {},
     "output_type": "display_data"
    }
   ],
   "source": [
    "prompt = \"What is the best place for sightseeing in Milan, Italy?\"\n",
    "\n",
    "response = chat.send_message(prompt)\n",
    "display(Markdown(response.text))"
   ]
  },
  {
   "cell_type": "markdown",
   "metadata": {
    "id": "JiUYIhwpctCy"
   },
   "source": [
    "You can see that this way, a guardrail in the prompt prevented the chatbot from veering off course."
   ]
  },
  {
   "cell_type": "markdown",
   "metadata": {
    "id": "ZuuDhA37cvmP"
   },
   "source": [
    "### Turn generative tasks into classification tasks to reduce output variability"
   ]
  },
  {
   "cell_type": "markdown",
   "metadata": {
    "id": "kUCUrsUzczmb"
   },
   "source": [
    "#### Generative tasks lead to higher output variability"
   ]
  },
  {
   "cell_type": "markdown",
   "metadata": {
    "id": "a1xASHAkc46n"
   },
   "source": [
    "The prompt below results in an open-ended response, useful for brainstorming, but response is highly variable."
   ]
  },
  {
   "cell_type": "code",
   "execution_count": 16,
   "metadata": {
    "id": "nPfXQWIacwRf",
    "tags": []
   },
   "outputs": [
    {
     "data": {
      "text/markdown": [
       "Okay, here are a few programming activity recommendations, tailored for high school students, broken down by skill level and interest.  I'll try to give you options that are engaging and offer a good learning experience.\n",
       "\n",
       "**Beginner-Friendly (Good for solidifying fundamentals):**\n",
       "\n",
       "*   **Simple Text-Based Game:**\n",
       "    *   **Idea:** A number guessing game, a simple text-based adventure (think \"You are in a dark room...\"), or a rock-paper-scissors game.\n",
       "    *   **Language:** Python is perfect.  It's beginner-friendly and widely used.\n",
       "    *   **Why it's good:**  It forces you to use:\n",
       "        *   Input/Output (getting data from the user and displaying results)\n",
       "        *   Variables\n",
       "        *   Conditional statements (if/else)\n",
       "        *   Loops (while loops)\n",
       "        *   Basic logic\n",
       "    *   **Extra Challenge:** Add a score system, difficulty levels, or save/load functionality.\n",
       "\n",
       "*   **Basic Calculator:**\n",
       "    *   **Idea:** A calculator that can perform addition, subtraction, multiplication, and division.\n",
       "    *   **Language:** Python is great.  HTML/CSS/JavaScript if you want a web-based version.\n",
       "    *   **Why it's good:**\n",
       "        *   User Input\n",
       "        *   Data Type Conversion (converting strings to numbers)\n",
       "        *   Arithmetic Operators\n",
       "        *   Error Handling (what happens if the user enters invalid input?)\n",
       "\n",
       "*   **Unit Converter:**\n",
       "    *   **Idea:** Convert between Celsius and Fahrenheit, miles and kilometers, kilograms and pounds, etc.\n",
       "    *   **Language:** Python, JavaScript (if you want a web page).\n",
       "    *   **Why it's good:**\n",
       "        *   More practice with user input and data types.\n",
       "        *   Applying mathematical formulas.\n",
       "        *   Working with different units.\n",
       "\n",
       "**Intermediate (Building on the basics, introducing new concepts):**\n",
       "\n",
       "*   **To-Do List Application (Console or GUI):**\n",
       "    *   **Idea:** A program that lets you add, remove, and list tasks.  You can store the tasks in a list or file.\n",
       "    *   **Language:** Python (using `tkinter` for a GUI), Java (using Swing or JavaFX for a GUI), or JavaScript (using HTML/CSS/JavaScript for a web-based version).\n",
       "    *   **Why it's good:**\n",
       "        *   Data structures (lists, arrays)\n",
       "        *   File I/O (saving and loading data from a file if you want persistence)\n",
       "        *   User interface design (if you choose a GUI)\n",
       "        *   Object-oriented programming (if you structure your code well)\n",
       "    *   **Extra Challenge:**  Add priorities, due dates, categories, or the ability to mark tasks as complete.\n",
       "\n",
       "*   **Simple Web Scraper:**\n",
       "    *   **Idea:**  Write a program that extracts specific information from a website (e.g., headlines from a news site, prices from an online store).  *Be mindful of the website's terms of service and robots.txt file.*\n",
       "    *   **Language:** Python (using libraries like `requests` and `Beautiful Soup`), JavaScript (using `fetch` and DOM manipulation).\n",
       "    *   **Why it's good:**\n",
       "        *   Working with APIs (in a limited sense)\n",
       "        *   Parsing HTML\n",
       "        *   Understanding web structure\n",
       "        *   Data extraction and manipulation\n",
       "    *   **Important:** Start with very simple websites and be respectful of their resources.  Don't overload servers with requests.\n",
       "\n",
       "*   **Text Analyzer:**\n",
       "    *   **Idea:**  A program that analyzes a text file and counts the number of words, sentences, characters, or finds the most frequent words.\n",
       "    *   **Language:** Python.\n",
       "    *   **Why it's good:**\n",
       "        *   File I/O\n",
       "        *   String manipulation\n",
       "        *   Data structures (dictionaries for counting frequencies)\n",
       "        *   Algorithmic thinking (how to efficiently count words)\n",
       "\n",
       "**Advanced (Challenging projects that require more planning and knowledge):**\n",
       "\n",
       "*   **Clone a simple game:**\n",
       "    *   **Idea:** Pong, Snake, Tetris, or a simple platformer.\n",
       "    *   **Language:** Python (with Pygame), JavaScript (with Phaser or similar framework), or Java (with LibGDX).\n",
       "    *   **Why it's good:**\n",
       "        *   Game development principles\n",
       "        *   Event handling (keyboard input, mouse clicks)\n",
       "        *   Game loops\n",
       "        *   Collision detection\n",
       "        *   Graphics (if you go beyond text-based)\n",
       "    *   **Extra Challenge:** Add AI opponents, power-ups, or levels.\n",
       "\n",
       "*   **Data Visualization Project:**\n",
       "    *   **Idea:**  Find a dataset online (e.g., crime statistics, weather data, economic indicators) and create visualizations using a library like Matplotlib (Python) or D3.js (JavaScript).\n",
       "    *   **Language:** Python or JavaScript.\n",
       "    *   **Why it's good:**\n",
       "        *   Data analysis and manipulation\n",
       "        *   Visualization techniques\n",
       "        *   Communication of data insights\n",
       "\n",
       "*   **Basic Chatbot:**\n",
       "    *   **Idea:** A chatbot that can respond to simple questions or commands.\n",
       "    *   **Language:** Python (using libraries like ChatterBot or NLTK), JavaScript (using Node.js and a chatbot framework).\n",
       "    *   **Why it's good:**\n",
       "        *   Natural Language Processing (NLP) concepts\n",
       "        *   Machine learning (if you want to train your chatbot)\n",
       "        *   API integration (if you want your chatbot to access external services)\n",
       "\n",
       "**General Tips for Choosing a Project:**\n",
       "\n",
       "*   **Choose something that interests you:**  You're more likely to stick with a project if you find it engaging.\n",
       "*   **Start small:**  Break down the project into smaller, manageable tasks.\n",
       "*   **Don't be afraid to Google:**  Programming involves a lot of searching for solutions.  Learn to use search engines effectively.\n",
       "*   **Use version control (Git):**  Learn to use Git and GitHub to track your changes and collaborate with others.\n",
       "*   **Comment your code:**  Make it easy to understand what your code is doing.\n",
       "*   **Test your code:**  Write tests to ensure that your code is working correctly.\n",
       "*   **Ask for help:**  Don't be afraid to ask for help from teachers, mentors, or online communities.  Sites like Stack Overflow are invaluable.\n",
       "*   **Document your learning:**  Keep a journal or blog about your progress.  This will help you reflect on what you've learned.\n",
       "\n",
       "To give you the BEST recommendation, tell me:\n",
       "\n",
       "*   **What programming languages do you already know (even a little bit)?**\n",
       "*   **What kind of things are you interested in (games, web development, data science, etc.)?**\n",
       "*   **What is your comfort level with programming (beginner, intermediate, advanced)?**\n"
      ],
      "text/plain": [
       "<IPython.core.display.Markdown object>"
      ]
     },
     "metadata": {},
     "output_type": "display_data"
    }
   ],
   "source": [
    "prompt = \"I'm a high school student. Recommend me a programming activity to improve my skills.\"\n",
    "\n",
    "response = client.models.generate_content(model=MODEL_ID, contents=prompt)\n",
    "display(Markdown(response.text))"
   ]
  },
  {
   "cell_type": "markdown",
   "metadata": {
    "id": "iAmm9wPYc_1o"
   },
   "source": [
    "#### Classification tasks reduces output variability"
   ]
  },
  {
   "cell_type": "markdown",
   "metadata": {
    "id": "VvRpK_0GdCpf"
   },
   "source": [
    "The prompt below results in a choice and may be useful if you want the output to be easier to control."
   ]
  },
  {
   "cell_type": "code",
   "execution_count": 17,
   "metadata": {
    "id": "kYDKh0r2dAqo",
    "tags": []
   },
   "outputs": [
    {
     "data": {
      "text/markdown": [
       "Okay, as a high school student looking to learn a programming language, I strongly recommend **a) Learn Python** or **b) Learn JavaScript**. Here's a breakdown of why, and a comparison:\n",
       "\n",
       "**Why Python is a Great Choice:**\n",
       "\n",
       "*   **Beginner-Friendly:** Python is known for its clear, readable syntax. It's often described as being closer to English than many other languages, making it easier to learn the fundamentals of programming.\n",
       "*   **Versatile:** Python is used in a HUGE range of applications, including:\n",
       "    *   **Web Development:** (Backend with frameworks like Django and Flask)\n",
       "    *   **Data Science & Machine Learning:** (Libraries like NumPy, Pandas, Scikit-learn)\n",
       "    *   **Scripting & Automation:** (Automating tasks on your computer or servers)\n",
       "    *   **Game Development:** (Libraries like Pygame)\n",
       "    *   **Scientific Computing:**\n",
       "*   **Large and Supportive Community:**  You'll find tons of online resources, tutorials, forums, and libraries to help you learn and solve problems.  Stack Overflow is your friend!\n",
       "*   **Great for High School:** Many high schools are now teaching Python in introductory computer science courses.  Learning it now could give you a head start.\n",
       "\n",
       "**Why JavaScript is a Great Choice:**\n",
       "\n",
       "*   **Front-End Web Development:** JavaScript is *essential* for creating interactive and dynamic websites.  It's the language that runs in the browser and makes things happen on the front-end (what the user sees and interacts with).\n",
       "*   **Back-End Web Development (with Node.js):**  JavaScript can also be used on the server-side with Node.js, allowing you to build entire web applications using a single language.\n",
       "*   **Mobile App Development (with React Native):** You can use JavaScript to build cross-platform mobile apps that work on both iOS and Android.\n",
       "*   **Game Development (for the Web):** There are JavaScript frameworks for creating browser-based games.\n",
       "*   **Ubiquitous:** JavaScript runs *everywhere*. If you want to work on web development, you *need* to know JavaScript.\n",
       "*   **Very High Demand:**  JavaScript developers are in high demand in the job market.\n",
       "\n",
       "**Why Fortran is NOT a Great Choice (for you, right now):**\n",
       "\n",
       "*   **Specialized:** Fortran is primarily used in scientific and engineering computing, particularly for computationally intensive tasks like weather forecasting, fluid dynamics, and simulations.\n",
       "*   **Older Language:** While still actively maintained and used in its niche, Fortran's syntax can feel archaic compared to modern languages.\n",
       "*   **Limited Applicability (outside of its niche):** You won't find many opportunities to use Fortran for web development, mobile apps, or general-purpose programming.\n",
       "*   **Steeper Learning Curve (potentially):** While not inherently *difficult*, the resources and community support for Fortran are smaller and more focused on its specific applications.\n",
       "\n",
       "**Python vs. JavaScript: Which to Choose?**\n",
       "\n",
       "This depends on your interests:\n",
       "\n",
       "*   **If you're interested in data science, machine learning, scripting, or want a more general-purpose language to start with, choose Python.**\n",
       "*   **If you're interested in web development (especially front-end), mobile apps, or want to see immediate results in the browser, choose JavaScript.**\n",
       "\n",
       "**Here's a table summarizing the key differences:**\n",
       "\n",
       "| Feature        | Python                               | JavaScript                            |\n",
       "|----------------|---------------------------------------|---------------------------------------|\n",
       "| Primary Use     | Data Science, Scripting, General-Purpose | Web Development (front-end and back-end) |\n",
       "| Ease of Learning | Very Beginner-Friendly               | Beginner-Friendly (but can get complex) |\n",
       "| Web Development | Backend (Django, Flask)             | Frontend (essential), Backend (Node.js) |\n",
       "| Data Science    | Excellent (NumPy, Pandas, Scikit-learn) | Limited                               |\n",
       "| Mobile Apps    | Kivy, BeeWare                          | React Native, Ionic                   |\n",
       "| Job Market      | Strong                               | Very Strong                           |\n",
       "\n",
       "**My Recommended Strategy:**\n",
       "\n",
       "1.  **Start with Python:** If you're unsure, Python is a great default choice.  It's easier to learn and has broad applicability.  Work through a beginner-friendly online course or book.  Try building a simple project like a text-based game or a script to automate a task.\n",
       "2.  **Consider JavaScript (after Python):** Once you have a good grasp of programming fundamentals in Python, learning JavaScript will be easier. You'll recognize common concepts like variables, loops, functions, etc.  JavaScript will open up the world of web development to you.\n",
       "\n",
       "**Where to Learn:**\n",
       "\n",
       "*   **Online Courses:**\n",
       "    *   Codecademy\n",
       "    *   Coursera\n",
       "    *   edX\n",
       "    *   Udemy\n",
       "    *   Khan Academy (introductory programming)\n",
       "*   **Books:**\n",
       "    *   \"Python Crash Course\" (Eric Matthes)\n",
       "    *   \"Automate the Boring Stuff with Python\" (Al Sweigart)\n",
       "    *   \"Eloquent JavaScript\" (Marijn Haverbeke)\n",
       "*   **YouTube Channels:**\n",
       "    *   FreeCodeCamp.org\n",
       "    *   Traversy Media\n",
       "\n",
       "**Important Tip:** The best way to learn programming is to **practice**.  Don't just passively watch videos or read books.  Write code, experiment, and build projects.  Start small and gradually increase the complexity.  Don't be afraid to make mistakes – that's how you learn!  Good luck!\n"
      ],
      "text/plain": [
       "<IPython.core.display.Markdown object>"
      ]
     },
     "metadata": {},
     "output_type": "display_data"
    }
   ],
   "source": [
    "prompt = \"\"\"I'm a high school student. Which of these activities do you suggest and why:\n",
    "a) learn Python\n",
    "b) learn JavaScript\n",
    "c) learn Fortran\n",
    "\"\"\"\n",
    "\n",
    "response = client.models.generate_content(model=MODEL_ID, contents=prompt)\n",
    "display(Markdown(response.text))"
   ]
  },
  {
   "cell_type": "markdown",
   "metadata": {
    "id": "iTd60b1GdIsx"
   },
   "source": [
    "### Improve response quality by including examples"
   ]
  },
  {
   "cell_type": "markdown",
   "metadata": {
    "id": "yJi44NejdJYE"
   },
   "source": [
    "Another way to improve response quality is to add examples in your prompt. The LLM learns in-context from the examples on how to respond. Typically, one to five examples (shots) are enough to improve the quality of responses. Including too many examples can cause the model to over-fit the data and reduce the quality of responses.\n",
    "\n",
    "Similar to classical model training, the quality and distribution of the examples is very important. Pick examples that are representative of the scenarios that you need the model to learn, and keep the distribution of the examples (e.g. number of examples per class in the case of classification) aligned with your actual distribution."
   ]
  },
  {
   "cell_type": "markdown",
   "metadata": {
    "id": "sMbLginWdOKs"
   },
   "source": [
    "#### Zero-shot prompt"
   ]
  },
  {
   "cell_type": "markdown",
   "metadata": {
    "id": "Crh2Loi2dQ0v"
   },
   "source": [
    "Below is an example of zero-shot prompting, where you don't provide any examples to the LLM within the prompt itself."
   ]
  },
  {
   "cell_type": "code",
   "execution_count": 18,
   "metadata": {
    "id": "-7myRc-SdTQ4",
    "tags": []
   },
   "outputs": [
    {
     "data": {
      "text/markdown": [
       "Sentiment: Positive\n"
      ],
      "text/plain": [
       "<IPython.core.display.Markdown object>"
      ]
     },
     "metadata": {},
     "output_type": "display_data"
    }
   ],
   "source": [
    "prompt = \"\"\"Decide whether a Tweet's sentiment is positive, neutral, or negative.\n",
    "\n",
    "Tweet: I loved the new YouTube video you made!\n",
    "Sentiment:\n",
    "\"\"\"\n",
    "\n",
    "response = client.models.generate_content(model=MODEL_ID, contents=prompt)\n",
    "display(Markdown(response.text))"
   ]
  },
  {
   "cell_type": "markdown",
   "metadata": {
    "id": "ucRtPn9SdL64"
   },
   "source": [
    "#### One-shot prompt"
   ]
  },
  {
   "cell_type": "markdown",
   "metadata": {
    "id": "rs0gQH2vdYBi"
   },
   "source": [
    "Below is an example of one-shot prompting, where you provide one example to the LLM within the prompt to give some guidance on what type of response you want."
   ]
  },
  {
   "cell_type": "code",
   "execution_count": 19,
   "metadata": {
    "id": "iEq-KxGYdaT5",
    "tags": []
   },
   "outputs": [
    {
     "data": {
      "text/markdown": [
       "Sentiment: negative\n"
      ],
      "text/plain": [
       "<IPython.core.display.Markdown object>"
      ]
     },
     "metadata": {},
     "output_type": "display_data"
    }
   ],
   "source": [
    "prompt = \"\"\"Decide whether a Tweet's sentiment is positive, neutral, or negative.\n",
    "\n",
    "Tweet: I loved the new YouTube video you made!\n",
    "Sentiment: positive\n",
    "\n",
    "Tweet: That was awful. Super boring 😠\n",
    "Sentiment:\n",
    "\"\"\"\n",
    "\n",
    "response = client.models.generate_content(model=MODEL_ID, contents=prompt)\n",
    "display(Markdown(response.text))"
   ]
  },
  {
   "cell_type": "markdown",
   "metadata": {
    "id": "JnKLjJzmdfL_"
   },
   "source": [
    "#### Few-shot prompt"
   ]
  },
  {
   "cell_type": "markdown",
   "metadata": {
    "id": "6Zv-9F5OdgI_"
   },
   "source": [
    "Below is an example of few-shot prompting, where you provide a few examples to the LLM within the prompt to give some guidance on what type of response you want."
   ]
  },
  {
   "cell_type": "code",
   "execution_count": 20,
   "metadata": {
    "id": "u37P9tG4dk9S",
    "tags": []
   },
   "outputs": [
    {
     "data": {
      "text/markdown": [
       "Sentiment: positive\n"
      ],
      "text/plain": [
       "<IPython.core.display.Markdown object>"
      ]
     },
     "metadata": {},
     "output_type": "display_data"
    }
   ],
   "source": [
    "prompt = \"\"\"Decide whether a Tweet's sentiment is positive, neutral, or negative.\n",
    "\n",
    "Tweet: I loved the new YouTube video you made!\n",
    "Sentiment: positive\n",
    "\n",
    "Tweet: That was awful. Super boring 😠\n",
    "Sentiment: negative\n",
    "\n",
    "Tweet: Something surprised me about this video - it was actually original. It was not the same old recycled stuff that I always see. Watch it - you will not regret it.\n",
    "Sentiment:\n",
    "\"\"\"\n",
    "\n",
    "response = client.models.generate_content(model=MODEL_ID, contents=prompt)\n",
    "display(Markdown(response.text))"
   ]
  },
  {
   "cell_type": "markdown",
   "metadata": {
    "id": "wDMD3xb2dvX6"
   },
   "source": [
    "#### Choosing between zero-shot, one-shot, few-shot prompting methods"
   ]
  },
  {
   "cell_type": "markdown",
   "metadata": {
    "id": "s92W0YpNdxJp"
   },
   "source": [
    "Which prompt technique to use will solely depends on your goal. The zero-shot prompts are more open-ended and can give you creative answers, while one-shot and few-shot prompts teach the model how to behave so you can get more predictable answers that are consistent with the examples provided."
   ]
  }
 ],
 "metadata": {
  "colab": {
   "name": "intro_prompt_design.ipynb",
   "toc_visible": true
  },
  "environment": {
   "kernel": "conda-base-py",
   "name": "workbench-notebooks.m129",
   "type": "gcloud",
   "uri": "us-docker.pkg.dev/deeplearning-platform-release/gcr.io/workbench-notebooks:m129"
  },
  "kernelspec": {
   "display_name": "Python 3 (ipykernel) (Local) (Local)",
   "language": "python",
   "name": "conda-base-py"
  },
  "language_info": {
   "codemirror_mode": {
    "name": "ipython",
    "version": 3
   },
   "file_extension": ".py",
   "mimetype": "text/x-python",
   "name": "python",
   "nbconvert_exporter": "python",
   "pygments_lexer": "ipython3",
   "version": "3.10.16"
  }
 },
 "nbformat": 4,
 "nbformat_minor": 4
}
